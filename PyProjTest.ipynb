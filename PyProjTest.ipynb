{
 "metadata": {
  "name": "",
  "signature": "sha256:8654bda546f83fa1f96ca11561b246a781235dbfc55ae0e0e03dec85f205bfdf"
 },
 "nbformat": 3,
 "nbformat_minor": 0,
 "worksheets": [
  {
   "cells": [
    {
     "cell_type": "code",
     "collapsed": false,
     "input": [
      "import pyproj\n",
      "proj = pyproj.Proj(init=\"esri:26918\")\n",
      "nyc_lon = -73.928113\n",
      "nyc_lat = 40.692547\n",
      "print type(nyc_lat)\n",
      "print proj(nyc_lon, nyc_lat)"
     ],
     "language": "python",
     "metadata": {},
     "outputs": [
      {
       "output_type": "stream",
       "stream": "stdout",
       "text": [
        "<type 'float'>\n",
        "(590565.7324019157, 4505180.151377819)\n"
       ]
      }
     ],
     "prompt_number": 3
    },
    {
     "cell_type": "code",
     "collapsed": false,
     "input": [],
     "language": "python",
     "metadata": {},
     "outputs": [],
     "prompt_number": 1
    },
    {
     "cell_type": "code",
     "collapsed": false,
     "input": [],
     "language": "python",
     "metadata": {},
     "outputs": []
    }
   ],
   "metadata": {}
  }
 ]
}